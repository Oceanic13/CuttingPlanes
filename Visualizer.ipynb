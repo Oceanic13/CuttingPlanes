{
 "cells": [
  {
   "cell_type": "code",
   "execution_count": 79,
   "metadata": {},
   "outputs": [],
   "source": [
    "%matplotlib inline\n",
    "import matplotlib.pyplot as plt\n",
    "import matplotlib.colors\n",
    "from intvalpy import lineqs\n",
    "import sympy\n",
    "import numpy as np\n",
    "import os\n",
    "import json\n",
    "from scipy.optimize import linprog\n",
    "from ipywidgets import interact, widgets\n",
    "from functools import lru_cache\n",
    "#plt.rcParams['text.usetex'] = True"
   ]
  },
  {
   "cell_type": "markdown",
   "metadata": {},
   "source": [
    "# Mixed Integer Linear Program (MILP)\n",
    "$$\n",
    "\\begin{align}\n",
    "&\\min_{x} && c^T x\\\\\n",
    "&\\text{s.t.} && Ax \\leq b\\\\\n",
    "& && Bx = d\\\\\n",
    "& && x \\geq 0\\\\\n",
    "& && x \\in \\mathbb{Z}^{n_1} \\times \\mathbb{R}^{n-n_1}\n",
    "\\end{align}\n",
    "$$"
   ]
  },
  {
   "cell_type": "code",
   "execution_count": 69,
   "metadata": {},
   "outputs": [
    {
     "name": "stdout",
     "output_type": "stream",
     "text": [
      "HelloWorld\n",
      "\n",
      "{'A': [[3.0, 2.0], [-3.0, 2.0]], 'B': [], 'b': [6.0, 0.0], 'c': [0.0, -1.0], 'd': [], 'm': 2, 'n': 2, 'n1': 2, 'p': 0} {'cuts_coeffs': [[0.0, 1.0], [-2.0, 2.0]], 'cuts_rhs': [1.0, 0.0], 'sols': [[1.0, 1.5], [0.6666666666666666, 1.0], [1.0, 1.0]]}\n"
     ]
    }
   ],
   "source": [
    "def run_cutting_planes(filepath):\n",
    "    b = os.popen(filepath).read()\n",
    "    print(b)\n",
    "\n",
    "def load_data(milp_filename, cp_filename):\n",
    "    return json.load(open(milp_filename)), json.load(open(cp_filename))\n",
    "\n",
    "exe_file = '/Users/tobiaskohler/Uni/CuttingPlanes/build-CuttingPlanes-Desktop_arm_darwin_generic_mach_o_64bit-Debug/CuttingPlanes'\n",
    "run_cutting_planes('/Users/tobiaskohler/Uni/CuttingPlanes/build-CuttingPlanes-Desktop_arm_darwin_generic_mach_o_64bit-Debug/CuttingPlanes HelloWorld')\n",
    "data_milp, data_cp = load_data('milp.json', 'cp.json')\n",
    "print(data_milp, data_cp)\n",
    "\n",
    "# Access the system data\n",
    "n, n1, m, p = data_milp['n'], data_milp['n1'], data_milp['m'], data_milp['p']\n",
    "A = -np.array(data_milp['A'], dtype=np.float64)\n",
    "b = -np.array(data_milp['b'], dtype=np.float64)\n",
    "c = np.array(data_milp['c'], dtype=np.float64)\n",
    "B = np.array(data_milp['B'], dtype=np.float64)\n",
    "d = np.array(data_milp['d'], dtype=np.float64)\n",
    "sols = data_cp['sols']\n",
    "A_cuts = -np.array(data_cp['cuts_coeffs'], dtype=np.float64)\n",
    "b_cuts = -np.array(data_cp['cuts_rhs'], dtype=np.float64)\n",
    "n_cuts = len(b_cuts)\n",
    "\n",
    "assert(A.shape[0] == m and A.shape[1] == n)\n",
    "assert(n_cuts==len(sols)-1)\n",
    "assert(n == 2)\n",
    "\n",
    "# Insert nonnegative constraints for visualisation\n",
    "m += 2\n",
    "A = np.vstack([[1,0], [0,1], A])\n",
    "b = np.append([0,0], b)"
   ]
  },
  {
   "cell_type": "code",
   "execution_count": 121,
   "metadata": {},
   "outputs": [],
   "source": [
    "vs = lineqs(A, b, show=False)\n",
    "xlim, ylim = [-0, 1.1*np.max(vs[:,0])], [-0, 1.1*np.max(vs[:,1])]\n",
    "\n",
    "def coeff_str(coeff, sym):\n",
    "    if coeff==0:\n",
    "        return ''\n",
    "    p = '' if coeff >= 0 else '-'\n",
    "    c = abs(int(coeff)) if coeff%1==0 else abs(coeff)\n",
    "    return p + (str(c)+'$\\cdot$' if c != 1 else '') + sym\n",
    "\n",
    "def ineq_str(A, b, i):\n",
    "    cx, cy =-A[i,0], -A[i,1]\n",
    "    s = [t for t in [coeff_str(cx, 'x'), coeff_str(cy, 'y')] if t]\n",
    "    return ' + '.join(s) + ' $\\leq$ ' + str(int(-b[i])) if b[i]%1==0 else str(-b[i])\n",
    "\n",
    "def plot_lp(title, c, A, b, B, d, sol=None, cut=False):\n",
    "\n",
    "    ratio = (xlim[1]-xlim[0])/(ylim[1]-ylim[0])\n",
    "    plt.figure(figsize=(10,10/ratio))\n",
    "    assert(len(c) == 2)\n",
    "    m = len(b)\n",
    "\n",
    "    # Generate Meshgrid of Points\n",
    "    x_vals = np.linspace(xlim[0], xlim[1], 400)\n",
    "    y_vals = np.linspace(ylim[0], ylim[1], 400)\n",
    "    X, Y = np.meshgrid(x_vals, y_vals)\n",
    "\n",
    "    # Plot Objective Function\n",
    "    Z = c[0]*X + c[1]*Y\n",
    "    plt.imshow(Z, extent=[xlim[0], xlim[1], ylim[0], ylim[1]], origin='lower', cmap='viridis', alpha=0.3)\n",
    "    plt.contour(X, Y, Z, levels=20, cmap='viridis', alpha=0.1)\n",
    "\n",
    "    # Plot Inequality Constraints\n",
    "    for i in range(m):\n",
    "        if A[i,1] != 0:\n",
    "            plt.plot(x_vals, (b[i] - A[i,0]*x_vals) / A[i,1], 'r-' if (cut and i==m-1) else 'g-', lw=2, label=ineq_str(A,b,i))\n",
    "        elif A[i,0] != 0:\n",
    "            plt.axvline(x=b[i] / A[i, 0], color='r' if (cut and i==m-1) else 'g', linestyle='-', lw=2, label=ineq_str(A,b,i))\n",
    "\n",
    "    # Shade Feasible Region\n",
    "    feasible_cmap = matplotlib.colors.ListedColormap(['white', 'lime'])\n",
    "    feasible_region = np.all(A[:,0,None,None]*X + A[:,1,None,None]*Y >= b[:,None,None], axis=0)\n",
    "    plt.contourf(X, Y, feasible_region, cmap=feasible_cmap, alpha=0.2)\n",
    "\n",
    "    # Plot Integer Points\n",
    "    x_int = np.arange(np.ceil(xlim[0]), np.floor(xlim[1])+1, 1)\n",
    "    y_int = np.arange(np.ceil(ylim[0]), np.floor(ylim[1])+1, 1)\n",
    "    X_int, Y_int = np.meshgrid(x_int, y_int)\n",
    "    plt.scatter(X_int, Y_int, s=40, color='blue', label='Integers')\n",
    "\n",
    "    # Plot Optimal Solution\n",
    "    if sol is not None:\n",
    "        plt.plot(sol[0],sol[1],'ro', markersize=10, label='x=(%g, %g)' % (sol[0],sol[1]))\n",
    "\n",
    "    # Labels and Stuff\n",
    "    plt.legend(bbox_to_anchor=(1.05,1), loc=\"upper left\")\n",
    "    plt.xlabel('x')\n",
    "    plt.ylabel('y')\n",
    "    plt.title(title)\n",
    "    plt.grid(color='gray', linestyle='-', linewidth=1)\n",
    "    plt.xticks(np.arange(np.floor(xlim[0]), xlim[1], 1))\n",
    "    plt.yticks(np.arange(np.floor(ylim[0]), ylim[1], 1))\n",
    "    plt.xlim(xlim)\n",
    "    plt.ylim(ylim)\n",
    "\n",
    "    # Show plot\n",
    "    plt.show()"
   ]
  },
  {
   "cell_type": "code",
   "execution_count": 122,
   "metadata": {},
   "outputs": [
    {
     "data": {
      "application/vnd.jupyter.widget-view+json": {
       "model_id": "b66e22ef02eb460cb7568af125f18658",
       "version_major": 2,
       "version_minor": 0
      },
      "text/plain": [
       "interactive(children=(IntSlider(value=0, description='Show Step', max=5), Output()), _dom_classes=('widget-int…"
      ]
     },
     "metadata": {},
     "output_type": "display_data"
    },
    {
     "data": {
      "text/plain": [
       "<function __main__.plot_cutting_planes(iter)>"
      ]
     },
     "execution_count": 122,
     "metadata": {},
     "output_type": "execute_result"
    }
   ],
   "source": [
    "\n",
    "def plot_cutting_planes(iter):\n",
    "    i = iter//2\n",
    "    j = iter%2\n",
    "\n",
    "    if i==0:\n",
    "        plot_lp(r'$\\frac{1}{2}$', c, A, b, B, d, sol=None if j==0 else sols[0]) \n",
    "        return\n",
    "\n",
    "    sol = sols[i-1] if j==0 else sols[i]\n",
    "\n",
    "    title='Cutting Plane' if j==0 else 'Solution'\n",
    "    plot_lp(title, c, np.vstack([A, A_cuts[:i]]), np.append(b, b_cuts[:i]), B, d, sol=sol, cut=j==0)\n",
    "\n",
    "interact(plot_cutting_planes, iter=widgets.IntSlider(min=0, max=2*n_cuts+1, step=1, value=-2, description='Show Step'))"
   ]
  }
 ],
 "metadata": {
  "kernelspec": {
   "display_name": "Python 3",
   "language": "python",
   "name": "python3"
  },
  "language_info": {
   "codemirror_mode": {
    "name": "ipython",
    "version": 3
   },
   "file_extension": ".py",
   "mimetype": "text/x-python",
   "name": "python",
   "nbconvert_exporter": "python",
   "pygments_lexer": "ipython3",
   "version": "3.11.7"
  }
 },
 "nbformat": 4,
 "nbformat_minor": 2
}

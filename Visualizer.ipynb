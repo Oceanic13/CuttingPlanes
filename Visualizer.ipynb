{
 "cells": [
  {
   "cell_type": "code",
   "execution_count": 1,
   "metadata": {},
   "outputs": [],
   "source": [
    "%matplotlib inline\n",
    "import matplotlib.pyplot as plt\n",
    "from intvalpy import lineqs\n",
    "import sympy\n",
    "import numpy as np\n",
    "import os\n",
    "import json"
   ]
  },
  {
   "cell_type": "markdown",
   "metadata": {},
   "source": [
    "# Mixed Integer Linear Program (MILP)\n",
    "$$\n",
    "\\begin{align}\n",
    "&\\min_{x} && c^T x\\\\\n",
    "&\\text{s.t.} && Ax \\leq b\\\\\n",
    "& && x \\geq 0\\\\\n",
    "& && x_i \\in \\mathbb{Z}, i \\in I\n",
    "\\end{align}\n",
    "$$"
   ]
  },
  {
   "cell_type": "code",
   "execution_count": 2,
   "metadata": {},
   "outputs": [
    {
     "name": "stdout",
     "output_type": "stream",
     "text": [
      "{'n': 2, 'm': 4, 'c': [0, -1], 'A': [[3, 2], [-3, 2], [-1, 0], [0, -1]], 'b': [6, 0, 0, 0], 'I': [0, 1]}\n"
     ]
    }
   ],
   "source": [
    "def run_cutting_planes():\n",
    "    # Call Cutting Planes Binary\n",
    "    cmd = './bin/bar --option --otheroption.jpg'\n",
    "    b = os.popen(cmd).read()\n",
    "    print(b)\n",
    "\n",
    "def load_data():\n",
    "    return json.load(open('test.json'))\n",
    "\n",
    "data = load_data()\n",
    "print(data['system'])\n",
    "\n",
    "# Access the original system data\n",
    "d = data['system']\n",
    "n, m = d['n'], d['m']\n",
    "A = np.array(d['A'], dtype=np.float64)\n",
    "b = np.array(d['b'], dtype=np.float64)\n",
    "c = np.array(d['c'], dtype=np.float64)\n",
    "I = np.array(d['I'], dtype=np.uint32)\n",
    "assert(m == A.shape[0] and n == A.shape[1] and m == b.shape[0] and n == c.shape[0])\n",
    "assert(n == 2)"
   ]
  },
  {
   "cell_type": "code",
   "execution_count": 15,
   "metadata": {},
   "outputs": [
    {
     "name": "stdout",
     "output_type": "stream",
     "text": [
      "[[1.  1.5]\n",
      " [2.  0. ]\n",
      " [0.  0. ]]\n"
     ]
    }
   ],
   "source": [
    "vertices = lineqs(-A, -b, show=False)\n",
    "print(vertices)\n"
   ]
  }
 ],
 "metadata": {
  "kernelspec": {
   "display_name": "Python 3",
   "language": "python",
   "name": "python3"
  },
  "language_info": {
   "codemirror_mode": {
    "name": "ipython",
    "version": 3
   },
   "file_extension": ".py",
   "mimetype": "text/x-python",
   "name": "python",
   "nbconvert_exporter": "python",
   "pygments_lexer": "ipython3",
   "version": "3.11.7"
  }
 },
 "nbformat": 4,
 "nbformat_minor": 2
}

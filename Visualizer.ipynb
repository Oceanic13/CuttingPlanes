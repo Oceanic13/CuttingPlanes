{
 "cells": [
  {
   "cell_type": "code",
   "execution_count": 25,
   "metadata": {},
   "outputs": [],
   "source": [
    "%matplotlib inline\n",
    "import matplotlib.pyplot as plt\n",
    "import matplotlib.image as mpimg\n",
    "import matplotlib.colors\n",
    "import numpy as np\n",
    "import os\n",
    "import json\n",
    "from ipywidgets import interact, widgets\n",
    "import time\n",
    "#plt.rcParams['text.usetex'] = True\n",
    "\n",
    "import CuttingPlanes as CP"
   ]
  },
  {
   "cell_type": "markdown",
   "metadata": {},
   "source": [
    "# Mixed Integer Linear Program (MILP)\n",
    "$$\n",
    "\\begin{align}\n",
    "&\\min_{x} && c^T x\\\\\n",
    "&\\text{s.t.} && Ax \\leq b\\\\\n",
    "& && Bx = d\\\\\n",
    "& && x \\geq 0\\\\\n",
    "& && x \\in \\mathbb{Z}^{n_1} \\times \\mathbb{R}^{n-n_1}\n",
    "\\end{align}\n",
    "$$"
   ]
  },
  {
   "cell_type": "code",
   "execution_count": 33,
   "metadata": {},
   "outputs": [
    {
     "name": "stdout",
     "output_type": "stream",
     "text": [
      "/Users/tobiaskohler/Uni/CuttingPlanes/data/infeasible.json\n",
      "Cutting Planes\n",
      "================ Mixed Integer Linear Program ================\n",
      "n, m, p, n1: 2, 1, 0, 1\n",
      "c:\n",
      " 0 -1\n",
      "A:\n",
      "1 1\n",
      "b:\n",
      "-1\n",
      "B:\n",
      "\n",
      "d:\n",
      "\n",
      "==============================================================\n",
      "\n",
      "Cut me some slack!\n",
      "\n"
     ]
    },
    {
     "name": "stderr",
     "output_type": "stream",
     "text": [
      "PROBLEM IS INFEASIBLE\n"
     ]
    }
   ],
   "source": [
    "# Specify Files\n",
    "root_dir = \"/Users/tobiaskohler/Uni/CuttingPlanes\"\n",
    "plots_dir = os.path.join(root_dir, 'plots')\n",
    "data_dir = os.path.join(root_dir, 'data')\n",
    "cpp_file = os.path.join(root_dir, 'build-CuttingPlanes-Desktop_arm_darwin_generic_mach_o_64bit-Debug/CuttingPlanes')\n",
    "milp_files = ['milp_papadimitriou_14-2.json', 'milp_wolsey_8-3.json', 'infeasible.json']\n",
    "milp_files = [os.path.join(data_dir, mf) for mf in milp_files]\n",
    "milp_file = milp_files[2]\n",
    "print(milp_file)\n",
    "res_file = os.path.join(data_dir, 'cp.json')\n",
    "\n",
    "# Create a MILP\n",
    "milp = CP.MILP(2, 1) # dimension, number of integer constraints\n",
    "#milp.set_objective([0, -1])\n",
    "#milp.add_inequality_constraint([3, 2], 6)\n",
    "#milp.add_inequality_constraint([-3, 1], 0)\n",
    "#milp.save('milp.json')\n",
    "\n",
    "# Load a MILP\n",
    "milp.load(milp_file)\n",
    "\n",
    "# Run Cutting Plane Algorithm\n",
    "b = os.popen(' '.join([cpp_file, milp_file, res_file])).read()\n",
    "print(b)\n",
    "\n",
    "# Add Nonnegativity Constraints for Visualization\n",
    "milp.invert_constraints() # Visualization expects \">=\" constraints\n",
    "milp.add_inequality_constraint([1,0], 0, True)\n",
    "milp.add_inequality_constraint([0,1], 0, True)\n",
    "milp.check_dimensions()\n",
    "\n",
    "# Load the Cutting Planes Solution(s) of the Simplex Algorithm\n",
    "data = json.load(open(res_file))\n",
    "sols = data['sols']\n",
    "A_cuts = -np.array(data['cuts_coeffs'], dtype=np.float64)\n",
    "b_cuts = -np.array(data['cuts_rhs'], dtype=np.float64)\n",
    "n_cuts = len(b_cuts)"
   ]
  },
  {
   "cell_type": "code",
   "execution_count": 31,
   "metadata": {},
   "outputs": [],
   "source": [
    "# Save Plots\n",
    "plotter = CP.Plotter()\n",
    "imgs = []\n",
    "for i in range(n_cuts+1):\n",
    "    for j in range(2):\n",
    "        title = milp.objective_str()\n",
    "        img_file = os.path.join(plots_dir, '{i}{j}.png'.format(i=i,j=j))\n",
    "\n",
    "        sol = None if j==0 and i==0 else sols[i-1] if j==0 else sols[i] \n",
    "\n",
    "        cuts = (np.array([[]]),np.array([])) if i==0 else (A_cuts[:i], b_cuts[:i])\n",
    "        \n",
    "        plotter.plot_milp(milp, title=title, optimal_solution=sol, cuts=cuts, save_file=img_file)\n",
    "\n",
    "        img = mpimg.imread(img_file)\n",
    "        imgs.append(img)"
   ]
  },
  {
   "cell_type": "code",
   "execution_count": 32,
   "metadata": {},
   "outputs": [
    {
     "data": {
      "application/vnd.jupyter.widget-view+json": {
       "model_id": "0ec322e6e53e4e14a4848c7173404070",
       "version_major": 2,
       "version_minor": 0
      },
      "text/plain": [
       "interactive(children=(IntSlider(value=0, description='Show Step', max=3), Output()), _dom_classes=('widget-int…"
      ]
     },
     "metadata": {},
     "output_type": "display_data"
    },
    {
     "data": {
      "text/plain": [
       "<function __main__.show_plot(iter)>"
      ]
     },
     "execution_count": 32,
     "metadata": {},
     "output_type": "execute_result"
    }
   ],
   "source": [
    "def show_plot(iter):\n",
    "    plt.figure(figsize=(10,10))\n",
    "    plt.axis('off')\n",
    "    plt.imshow(imgs[iter])\n",
    "    plt.show()\n",
    "\n",
    "interact(show_plot, iter=widgets.IntSlider(min=0, max=2*n_cuts+1, step=1, value=0, description='Show Step'))"
   ]
  }
 ],
 "metadata": {
  "kernelspec": {
   "display_name": "Python 3",
   "language": "python",
   "name": "python3"
  },
  "language_info": {
   "codemirror_mode": {
    "name": "ipython",
    "version": 3
   },
   "file_extension": ".py",
   "mimetype": "text/x-python",
   "name": "python",
   "nbconvert_exporter": "python",
   "pygments_lexer": "ipython3",
   "version": "3.11.7"
  }
 },
 "nbformat": 4,
 "nbformat_minor": 2
}

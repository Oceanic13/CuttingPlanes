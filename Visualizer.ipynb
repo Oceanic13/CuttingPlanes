{
 "cells": [
  {
   "cell_type": "code",
   "execution_count": 24,
   "metadata": {},
   "outputs": [],
   "source": [
    "%matplotlib inline\n",
    "import matplotlib.pyplot as plt\n",
    "import matplotlib.colors\n",
    "from intvalpy import lineqs\n",
    "import sympy\n",
    "import numpy as np\n",
    "import os\n",
    "import json\n",
    "from scipy.optimize import linprog\n",
    "from ipywidgets import interact, widgets\n",
    "from functools import lru_cache\n",
    "#plt.rcParams['text.usetex'] = True"
   ]
  },
  {
   "cell_type": "markdown",
   "metadata": {},
   "source": [
    "# Mixed Integer Linear Program (MILP)\n",
    "$$\n",
    "\\begin{align}\n",
    "&\\min_{x} && c^T x\\\\\n",
    "&\\text{s.t.} && Ax \\geq b\\\\\n",
    "& && x \\geq 0\\\\\n",
    "& && x_i \\in \\mathbb{Z}, i \\in I\n",
    "\\end{align}\n",
    "$$"
   ]
  },
  {
   "cell_type": "code",
   "execution_count": 25,
   "metadata": {},
   "outputs": [
    {
     "name": "stdout",
     "output_type": "stream",
     "text": [
      "{'A': [[-3.0, -2.0], [3.0, -2.0], [0.0, -1.0], [1.0, -1.0]], 'I': [True, True], 'b': [-6.0, -0.0, -1.0, 0.0], 'c': [0.0, -1.0], 'm': 2, 'n': 2, 'sols': [[1.0, 1.5], [0.6666666666666666, 1.0], [1.0, 1.0]]}\n"
     ]
    }
   ],
   "source": [
    "def run_cutting_planes(filepath):\n",
    "    b = os.popen(filepath).read()\n",
    "    #print(b)\n",
    "\n",
    "def load_data(filepath):\n",
    "    return json.load(open(filepath))\n",
    "\n",
    "run_cutting_planes('/Users/tobiaskohler/Uni/CuttingPlanes/build-CuttingPlanes-Desktop_arm_darwin_generic_mach_o_64bit-Debug/CuttingPlanes')\n",
    "d = load_data('test.json')\n",
    "print(d)\n",
    "\n",
    "# Access the system data\n",
    "n, m = d['n'], d['m']\n",
    "A = np.array(d['A'], dtype=np.float64)\n",
    "b = np.array(d['b'], dtype=np.float64)\n",
    "c = np.array(d['c'], dtype=np.float64)\n",
    "I = np.array(d['I'], dtype=bool)\n",
    "sols = d['sols']\n",
    "n_cuts = b.shape[0] - m\n",
    "assert(A.shape[0] == b.shape[0] and n == A.shape[1] and n == c.shape[0] and n_cuts==len(sols)-1)\n",
    "assert(n == 2)\n",
    "\n",
    "# Insert nonnegative constraints for visualisation\n",
    "m += 2\n",
    "A = np.vstack([[1,0], [0,1], A])\n",
    "b = np.append([0,0], b)"
   ]
  },
  {
   "cell_type": "code",
   "execution_count": 66,
   "metadata": {},
   "outputs": [],
   "source": [
    "def plot_lp(c, A, b, sol=None, xlim=(0, 5), ylim=(0, 5)):\n",
    "\n",
    "    ratio = (xlim[1]-xlim[0])/(ylim[1]-ylim[0])\n",
    "    plt.figure(figsize=(10,10/ratio))\n",
    "    assert(len(c) == 2)\n",
    "    m = len(b)\n",
    "\n",
    "    # Generate Meshgrid of Points\n",
    "    x_vals = np.linspace(xlim[0], xlim[1], 400)\n",
    "    y_vals = np.linspace(ylim[0], ylim[1], 400)\n",
    "    X, Y = np.meshgrid(x_vals, y_vals)\n",
    "\n",
    "    # Plot Objective Function\n",
    "    Z = c[0]*X + c[1]*Y\n",
    "    plt.imshow(Z, extent=[xlim[0], xlim[1], ylim[0], ylim[1]], origin='lower', cmap='viridis', alpha=0.3)\n",
    "\n",
    "    # Plot Inequality Constraints\n",
    "    for i in range(m):\n",
    "        if A[i,1] != 0:\n",
    "            plt.plot(x_vals, (b[i] - A[i,0]*x_vals) / A[i,1], 'g-', lw=2, label='C'+str(i))\n",
    "        elif A[i,0] != 0:\n",
    "            plt.axvline(x=b[i] / A[i, 0], color='g', linestyle='-', lw=2, label='C'+str(i))\n",
    "\n",
    "    # Shade Feasible Region\n",
    "    feasible_cmap = matplotlib.colors.ListedColormap(['white', 'lime'])\n",
    "    feasible_region = np.all(A[:,0,None,None]*X + A[:,1,None,None]*Y >= b[:,None,None], axis=0)\n",
    "    plt.contourf(X, Y, feasible_region, cmap=feasible_cmap, alpha=0.2)\n",
    "\n",
    "    # Plot Integer Points\n",
    "    x_int = np.arange(np.ceil(xlim[0]), np.floor(xlim[1])+1, 1)\n",
    "    y_int = np.arange(np.ceil(ylim[0]), np.floor(ylim[1])+1, 1)\n",
    "    X_int, Y_int = np.meshgrid(x_int, y_int)\n",
    "    plt.scatter(X_int, Y_int, s=40, color='blue', label='Integers')\n",
    "\n",
    "    # Plot Optimal Solution\n",
    "    if sol is not None:\n",
    "        plt.plot(sol[0],sol[1],'ro', markersize=10, label='x=(%g, %g)' % (sol[0],sol[1]))\n",
    "\n",
    "    # Labels and Stuff\n",
    "    plt.legend(bbox_to_anchor=(1.05,1), loc=\"upper left\")\n",
    "    plt.xlabel('x_1')\n",
    "    plt.ylabel('x_2')\n",
    "    plt.title('Cutting Planes')\n",
    "    plt.grid(color='gray', linestyle='-', linewidth=1)\n",
    "    plt.xticks(np.arange(np.floor(xlim[0]), xlim[1], 1))\n",
    "    plt.yticks(np.arange(np.floor(ylim[0]), ylim[1], 1))\n",
    "    plt.xlim(xlim)\n",
    "    plt.ylim(ylim)\n",
    "\n",
    "    # Show plot\n",
    "    plt.show()"
   ]
  },
  {
   "cell_type": "code",
   "execution_count": 68,
   "metadata": {},
   "outputs": [
    {
     "data": {
      "application/vnd.jupyter.widget-view+json": {
       "model_id": "af7e03d53e254d14bfb1da6ffec42ecc",
       "version_major": 2,
       "version_minor": 0
      },
      "text/plain": [
       "interactive(children=(IntSlider(value=0, description='Iteration:', max=2), Output()), _dom_classes=('widget-in…"
      ]
     },
     "metadata": {},
     "output_type": "display_data"
    },
    {
     "data": {
      "text/plain": [
       "<function __main__.plot_cutting_planes(i)>"
      ]
     },
     "execution_count": 68,
     "metadata": {},
     "output_type": "execute_result"
    }
   ],
   "source": [
    "vs = lineqs(A[:m,:], b[:m], show=False)\n",
    "xlim, ylim = [-0, 1.1*np.max(vs[:,0])], [-0, 1.1*np.max(vs[:,1])]\n",
    "\n",
    "def plot_cutting_planes(i):\n",
    "    plot_lp(c, A[:m+i,:], b[:m+i], sol=sols[i], xlim=xlim, ylim=ylim)\n",
    "\n",
    "interact(plot_cutting_planes, i=widgets.IntSlider(min=0, max=n_cuts, step=1, value=0, description='Iteration:'))"
   ]
  }
 ],
 "metadata": {
  "kernelspec": {
   "display_name": "Python 3",
   "language": "python",
   "name": "python3"
  },
  "language_info": {
   "codemirror_mode": {
    "name": "ipython",
    "version": 3
   },
   "file_extension": ".py",
   "mimetype": "text/x-python",
   "name": "python",
   "nbconvert_exporter": "python",
   "pygments_lexer": "ipython3",
   "version": "3.11.7"
  }
 },
 "nbformat": 4,
 "nbformat_minor": 2
}

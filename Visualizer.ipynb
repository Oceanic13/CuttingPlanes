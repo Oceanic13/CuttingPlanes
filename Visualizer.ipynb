{
 "cells": [
  {
   "cell_type": "code",
   "execution_count": 28,
   "metadata": {},
   "outputs": [],
   "source": [
    "%matplotlib inline\n",
    "import matplotlib.pyplot as plt\n",
    "import matplotlib.image as mpimg\n",
    "import matplotlib.colors\n",
    "import numpy as np\n",
    "import os\n",
    "import json\n",
    "from ipywidgets import interact, widgets\n",
    "import time\n",
    "#plt.rcParams['text.usetex'] = True\n",
    "\n",
    "import CuttingPlanes as CP"
   ]
  },
  {
   "cell_type": "markdown",
   "metadata": {},
   "source": [
    "# Mixed Integer Linear Program (MILP)\n",
    "$$\n",
    "\\begin{align}\n",
    "&\\min_{x} && c^T x\\\\\n",
    "&\\text{s.t.} && Ax \\leq b\\\\\n",
    "& && x \\geq 0\\\\\n",
    "& && x \\in \\mathbb{Z}^{n_1} \\times \\mathbb{R}^{n-n_1}\n",
    "\\end{align}\n",
    "$$"
   ]
  },
  {
   "cell_type": "code",
   "execution_count": 29,
   "metadata": {},
   "outputs": [
    {
     "name": "stdout",
     "output_type": "stream",
     "text": [
      "Cutting Planes\n",
      "================ Mixed Integer Linear Program ================\n",
      "n, m, p, n1: 2, 3, 0, 2\n",
      "c:\n",
      "-1 -2\n",
      "A:\n",
      " 3  2\n",
      "-3  1\n",
      "-1 -1\n",
      "b:\n",
      " 6  0 -1\n",
      "B:\n",
      "\n",
      "d:\n",
      "\n",
      "==============================================================\n",
      "\n",
      "Simplex: 0.666667        2 with value -4.66667\n",
      "Add Cut       -1 0.666667 <= 0\n",
      "Simplex:   1 1.5 with value -4\n",
      "Add Cut 0 1 <= 1\n",
      "Simplex: 1.33333       1 with value -3.33333\n",
      "Add Cut 1 1 <= 2\n",
      "Simplex: 1 1 with value -3\n",
      "Finished: 1 1 with value -3\n",
      "\n"
     ]
    }
   ],
   "source": [
    "# Specify Files\n",
    "root_dir = \"/Users/tobiaskohler/Uni/CuttingPlanes\"\n",
    "plots_dir = os.path.join(root_dir, 'plots')\n",
    "data_dir = os.path.join(root_dir, 'data')\n",
    "cpp_file = os.path.join(root_dir, 'build-CuttingPlanes-Desktop_arm_darwin_generic_mach_o_64bit-Debug/CuttingPlanes')\n",
    "milp_file = os.path.join(data_dir, 'milp.json')\n",
    "res_file = os.path.join(data_dir, 'cp.json')\n",
    "\n",
    "# Create a MILP\n",
    "milp = CP.MILP()\n",
    "milp.set_objective([-1, -2])\n",
    "milp.add_inequality_constraint([3, 2], 6)\n",
    "milp.add_inequality_constraint([-3, 1], 0)\n",
    "milp.add_inequality_constraint([-1, -1], -1)\n",
    "milp.save(milp_file)\n",
    "\n",
    "# Run Cutting Plane Algorithm\n",
    "b = os.popen(' '.join([cpp_file, milp_file, res_file])).read()\n",
    "print(b)\n",
    "\n",
    "# Add Nonnegativity Constraints for Visualization\n",
    "milp.invert_constraints()\n",
    "milp.add_inequality_constraint([1,0], 0, True)\n",
    "milp.add_inequality_constraint([0,1], 0, True)\n",
    "milp.check_dimensions()\n",
    "\n",
    "# Load the Cutting Planes Solution(s) of the Simplex Algorithm\n",
    "data = json.load(open(res_file))\n",
    "sols = data['sols']\n",
    "A_cuts = -np.array(data['cuts_coeffs'], dtype=np.float64)\n",
    "b_cuts = -np.array(data['cuts_rhs'], dtype=np.float64)\n",
    "n_cuts = len(b_cuts)"
   ]
  },
  {
   "cell_type": "code",
   "execution_count": 30,
   "metadata": {},
   "outputs": [],
   "source": [
    "# Save Plots\n",
    "imgs = []\n",
    "for i in range(n_cuts+1):\n",
    "    for j in range(2):\n",
    "        title = milp.objective_str()\n",
    "        img_file = os.path.join(plots_dir, '{i}{j}.png'.format(i=i,j=j))\n",
    "\n",
    "        if i==0:\n",
    "            milp.save_plot(title, sol=None if j==0 else sols[0], mark_last_ineq=False, save_file=img_file) \n",
    "        else:\n",
    "            sol = sols[i-1] if j==0 else sols[i]\n",
    "            milp.save_plot(title, sol=sol, cuts=(A_cuts[:i], b_cuts[:i]), mark_last_ineq=j==0, save_file=img_file)\n",
    "\n",
    "        img = mpimg.imread(img_file)\n",
    "        imgs.append(img)"
   ]
  },
  {
   "cell_type": "code",
   "execution_count": 31,
   "metadata": {},
   "outputs": [
    {
     "data": {
      "application/vnd.jupyter.widget-view+json": {
       "model_id": "04f51e5dc9e94dd8908ae1e1b2bc5a28",
       "version_major": 2,
       "version_minor": 0
      },
      "text/plain": [
       "interactive(children=(IntSlider(value=0, description='Show Step', max=7), Output()), _dom_classes=('widget-int…"
      ]
     },
     "metadata": {},
     "output_type": "display_data"
    },
    {
     "data": {
      "text/plain": [
       "<function __main__.show_plot(iter)>"
      ]
     },
     "execution_count": 31,
     "metadata": {},
     "output_type": "execute_result"
    }
   ],
   "source": [
    "def show_plot(iter):\n",
    "    plt.figure(figsize=(10,10))\n",
    "    plt.axis('off')\n",
    "    plt.imshow(imgs[iter])\n",
    "    plt.show()\n",
    "\n",
    "interact(show_plot, iter=widgets.IntSlider(min=0, max=2*n_cuts+1, step=1, value=0, description='Show Step'))"
   ]
  }
 ],
 "metadata": {
  "kernelspec": {
   "display_name": "Python 3",
   "language": "python",
   "name": "python3"
  },
  "language_info": {
   "codemirror_mode": {
    "name": "ipython",
    "version": 3
   },
   "file_extension": ".py",
   "mimetype": "text/x-python",
   "name": "python",
   "nbconvert_exporter": "python",
   "pygments_lexer": "ipython3",
   "version": "3.11.7"
  }
 },
 "nbformat": 4,
 "nbformat_minor": 2
}

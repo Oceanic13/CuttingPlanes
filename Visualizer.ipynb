{
 "cells": [
  {
   "cell_type": "code",
   "execution_count": 1,
   "metadata": {},
   "outputs": [],
   "source": [
    "%matplotlib inline\n",
    "import matplotlib.pyplot as plt\n",
    "import matplotlib.image as mpimg\n",
    "import matplotlib.colors\n",
    "import numpy as np\n",
    "import os\n",
    "import json\n",
    "from ipywidgets import interact, widgets\n",
    "import time\n",
    "#plt.rcParams['text.usetex'] = True\n",
    "\n",
    "import CuttingPlanes as CP"
   ]
  },
  {
   "cell_type": "markdown",
   "metadata": {},
   "source": [
    "# Mixed Integer Linear Program (MILP)\n",
    "$$\n",
    "\\begin{align}\n",
    "&\\min_{x} && c^T x\\\\\n",
    "&\\text{s.t.} && Ax \\leq b\\\\\n",
    "& && x \\geq 0\\\\\n",
    "& && x \\in \\mathbb{Z}^{n_1} \\times \\mathbb{R}^{n-n_1}\n",
    "\\end{align}\n",
    "$$"
   ]
  },
  {
   "cell_type": "code",
   "execution_count": 2,
   "metadata": {},
   "outputs": [
    {
     "name": "stdout",
     "output_type": "stream",
     "text": [
      "Cutting Planes\n",
      "================ Mixed Integer Linear Program ================\n",
      "n, m, p, n1: 2, 3, 0, 1\n",
      "c:\n",
      "  1 -10\n",
      "A:\n",
      " -2 0.1\n",
      "  0   1\n",
      "  1   0\n",
      "b:\n",
      "0 2 3\n",
      "B:\n",
      "\n",
      "d:\n",
      "\n",
      "==============================================================\n",
      "\n",
      "Simplex: 0.1   2 with value -19.9\n",
      "Add Cut -0.111111 0.0555556 <= 0\n",
      "Simplex: 1 2 with value -19\n",
      "Finished: 1 2 with value -19\n",
      "\n"
     ]
    }
   ],
   "source": [
    "# Specify Files\n",
    "root_dir = \"/Users/tobiaskohler/Uni/CuttingPlanes\"\n",
    "plots_dir = os.path.join(root_dir, 'plots')\n",
    "data_dir = os.path.join(root_dir, 'data')\n",
    "cpp_file = os.path.join(root_dir, 'build-CuttingPlanes-Desktop_arm_darwin_generic_mach_o_64bit-Debug/CuttingPlanes')\n",
    "milp_file = os.path.join(data_dir, 'milp_wolsey_8-3.json')\n",
    "res_file = os.path.join(data_dir, 'cp.json')\n",
    "\n",
    "# Create a MILP\n",
    "milp = CP.MILP(2, 1)\n",
    "milp.set_objective([0, -1])\n",
    "milp.add_inequality_constraint([3, 2], 6)\n",
    "milp.add_inequality_constraint([-3, 1], 0)\n",
    "#milp.add_inequality_constraint([-1, -1], -1)\n",
    "milp.save('milp.json')\n",
    "\n",
    "milp.load(milp_file)\n",
    "\n",
    "# Run Cutting Plane Algorithm\n",
    "b = os.popen(' '.join([cpp_file, milp_file, res_file])).read()\n",
    "print(b)\n",
    "\n",
    "# Add Nonnegativity Constraints for Visualization\n",
    "milp.invert_constraints()\n",
    "milp.add_inequality_constraint([1,0], 0, True)\n",
    "milp.add_inequality_constraint([0,1], 0, True)\n",
    "milp.check_dimensions()\n",
    "\n",
    "# Load the Cutting Planes Solution(s) of the Simplex Algorithm\n",
    "data = json.load(open(res_file))\n",
    "sols = data['sols']\n",
    "A_cuts = -np.array(data['cuts_coeffs'], dtype=np.float64)\n",
    "b_cuts = -np.array(data['cuts_rhs'], dtype=np.float64)\n",
    "n_cuts = len(b_cuts)"
   ]
  },
  {
   "cell_type": "code",
   "execution_count": 3,
   "metadata": {},
   "outputs": [],
   "source": [
    "# Save Plots\n",
    "plotter = CP.Plotter()\n",
    "imgs = []\n",
    "for i in range(n_cuts+1):\n",
    "    for j in range(2):\n",
    "        title = milp.objective_str()\n",
    "        img_file = os.path.join(plots_dir, '{i}{j}.png'.format(i=i,j=j))\n",
    "\n",
    "        if i==0:\n",
    "            sol = None if j==0 else sols[0]\n",
    "            plotter.plot_milp(milp, title=title, optimal_solution=sol, save_file=img_file)\n",
    "        else:\n",
    "            sol = sols[i-1] if j==0 else sols[i]\n",
    "            plotter.plot_milp(milp, title=title, optimal_solution=sol, cuts=(A_cuts[:i], b_cuts[:i]), save_file=img_file)\n",
    "\n",
    "        img = mpimg.imread(img_file)\n",
    "        imgs.append(img)"
   ]
  },
  {
   "cell_type": "code",
   "execution_count": 4,
   "metadata": {},
   "outputs": [
    {
     "data": {
      "application/vnd.jupyter.widget-view+json": {
       "model_id": "2395d9d62dfb46a5b49bbd866a76ef55",
       "version_major": 2,
       "version_minor": 0
      },
      "text/plain": [
       "interactive(children=(IntSlider(value=0, description='Show Step', max=3), Output()), _dom_classes=('widget-int…"
      ]
     },
     "metadata": {},
     "output_type": "display_data"
    },
    {
     "data": {
      "text/plain": [
       "<function __main__.show_plot(iter)>"
      ]
     },
     "execution_count": 4,
     "metadata": {},
     "output_type": "execute_result"
    }
   ],
   "source": [
    "def show_plot(iter):\n",
    "    plt.figure(figsize=(10,10))\n",
    "    plt.axis('off')\n",
    "    plt.imshow(imgs[iter])\n",
    "    plt.show()\n",
    "\n",
    "interact(show_plot, iter=widgets.IntSlider(min=0, max=2*n_cuts+1, step=1, value=0, description='Show Step'))"
   ]
  }
 ],
 "metadata": {
  "kernelspec": {
   "display_name": "Python 3",
   "language": "python",
   "name": "python3"
  },
  "language_info": {
   "codemirror_mode": {
    "name": "ipython",
    "version": 3
   },
   "file_extension": ".py",
   "mimetype": "text/x-python",
   "name": "python",
   "nbconvert_exporter": "python",
   "pygments_lexer": "ipython3",
   "version": "3.11.7"
  }
 },
 "nbformat": 4,
 "nbformat_minor": 2
}
